{
 "metadata": {
  "language_info": {
   "codemirror_mode": {
    "name": "ipython",
    "version": 3
   },
   "file_extension": ".py",
   "mimetype": "text/x-python",
   "name": "python",
   "nbconvert_exporter": "python",
   "pygments_lexer": "ipython3",
   "version": "3.8.5-final"
  },
  "orig_nbformat": 2,
  "kernelspec": {
   "name": "Python 3.8.5 64-bit ('flowe': virtualenv)",
   "display_name": "Python 3.8.5 64-bit ('flowe': virtualenv)",
   "metadata": {
    "interpreter": {
     "hash": "4cb11f3cffe3fa0c483afe6f98857f17673e27f0e8980b874490b4c407049f69"
    }
   }
  }
 },
 "nbformat": 4,
 "nbformat_minor": 2,
 "cells": [
  {
   "source": [
    "## Stack2"
   ],
   "cell_type": "markdown",
   "metadata": {}
  },
  {
   "source": [
    "### 1. 계산기\n"
   ],
   "cell_type": "markdown",
   "metadata": {}
  },
  {
   "source": [
    "** I. 중위 표기식을 후위 표기식으로 변환 **"
   ],
   "cell_type": "markdown",
   "metadata": {}
  },
  {
   "source": [
    "1. 입력 받은 중위표기식에서 토큰을 읽음\n",
    "\n",
    "2. 토큰이 피연산자이면 토큰을 출력\n",
    "\n",
    "3. 토큰이 연산자(괄호포함)일 경우\n",
    "\n",
    "    * 우선순위가 높으면 스택에 push\n",
    "\n",
    "    * 우선순위가 낮으면 연산자의 우선순위가 토큰의 우선순위보다 작을 때까지 스택에서 pop한 후 토큰의 연산자를 push\n",
    "\n",
    "4. 토큰이 오른쪽 괄호 ')'일 경우\n",
    "\n",
    "    * 스택 top에 왼쪽 괄호 '('가 올 때까지 스택에 pop연산을 수행\n",
    "\n",
    "    * pop한 연산자를 출력\n",
    "\n",
    "    * 왼쪽 괄호를 만나면 pop만 하고 출력하지는 않음\n",
    "\n",
    "5. 중위 표기식에 더 읽을 것이 없다면 중지, 더 읽을 것이 있다면 1부터 반복\n",
    "\n",
    "6. 스택에 남아 있는 연산자를 모두 pop하여 출력\n",
    "\n",
    "    * 스택 밖의 왼쪽 괄호는 우선순위가 가장 높다\n",
    "    \n",
    "    * 안쪽으로 갈 수록 우선순위가 낮아짐"
   ],
   "cell_type": "markdown",
   "metadata": {}
  },
  {
   "source": [
    "* icp : in-coming priority\n",
    "\n",
    "* isp : in-stack priority\n",
    "\n",
    "if(icp > isp) push()\n",
    "else pop()\n",
    "\n",
    "\n",
    "토큰    icp     isp\n",
    "\n",
    ")       -       -   \n",
    "\n",
    "\\* /     2       2\n",
    "\n",
    "\\+ \\-     1       1\n",
    "\n",
    "(       0       3\n",
    "\n"
   ],
   "cell_type": "markdown",
   "metadata": {}
  },
  {
   "source": [
    "** II. 후위표기법 수식을 스택으로 계산 **"
   ],
   "cell_type": "markdown",
   "metadata": {}
  },
  {
   "source": [
    "1. 피연산자를 만나면 스택에 push\n",
    "\n",
    "2. 피연산자를 만나면 필요한 만큼의 피연산자를 스택에서 pop하여 연산하고, 연산 결과를 다시 스택에 push함\n",
    "\n",
    "3. 수식이 끝나면, 마지막으로 스택을 pop하여 출력"
   ],
   "cell_type": "markdown",
   "metadata": {}
  },
  {
   "source": [
    "* eval(string) = float"
   ],
   "cell_type": "markdown",
   "metadata": {}
  },
  {
   "source": [
    "eval('6/5')"
   ],
   "cell_type": "code",
   "metadata": {},
   "execution_count": 1,
   "outputs": [
    {
     "output_type": "execute_result",
     "data": {
      "text/plain": "1.2"
     },
     "metadata": {},
     "execution_count": 1
    }
   ]
  },
  {
   "source": [
    "### 2. Back Tracking"
   ],
   "cell_type": "markdown",
   "metadata": {}
  },
  {
   "source": [
    "** 해를 찾는 도중 막히면 되돌아가서 다시 해를 찾는 방법 **\n",
    "\n",
    "* 최적화 문제\n",
    "\n",
    "* 결정문제\n"
   ],
   "cell_type": "markdown",
   "metadata": {}
  },
  {
   "source": [
    "예) 미로 찾기\n",
    "\n",
    "1. 입구와 풀구가 주어진 미로에서 입구부터 출구까지의 경로 찾는 문제\n",
    "\n",
    "2. 이동할 수 있는 방향은 4방향 제한"
   ],
   "cell_type": "markdown",
   "metadata": {}
  },
  {
   "source": [
    "** 백트래킹과 깊이 우선 탐색의 차이 **\n",
    "\n",
    "* 백트래킹\n",
    "\n",
    "    * 어떤 노드에서 출발하는 경로가 해결책으로 이어질 것 같지 않으면 더 이상 그 경로를 따라가지 않음으로써 시도의 횟수를 줄임\n",
    "\n",
    "    * 가지치기(Prunning)\n",
    "\n",
    "    * 불필요한 경로의 조기 차단\n",
    "\n",
    "    * N! 가지의 경우의 수를 가진 문제에 대해 백트레킹에 가하면 일반적으로 경우의 수가 줄어들지만 이 역시 최악의 경우에는 여전히 지수함수 시간(Exponential Time)을 요하므로 처리 불가능\n",
    "\n",
    "    * 모든 후보를 검사하지 않음\n",
    "\n",
    "* 깊이 우선 탐색\n",
    "\n",
    "    * 모든 경로를 추적\n",
    "\n",
    "    * N! 가지의 경우의 수를 가진 문제에 대해 깊이 우선 탐색을 가하면 처리 불가능한 문제\n",
    "\n",
    "    * 모든 후보를 검사\n",
    "\n",
    "    "
   ],
   "cell_type": "markdown",
   "metadata": {}
  },
  {
   "source": [
    "1. 백트래킹 기법\n",
    "\n",
    "    어떤 노드의 유망성을 점검한 후에 유망(Promising)하지 않다고 결정되면 그 노드의 부모로 되돌아가(Backtracking) 다음 자식 노드로 감\n",
    "\n",
    "    어떤 노드를 방문하였을 때 그 노드를 포함한 경로가 해답이 될 수 없으면 그 노드는 유망하지 않다고 함\n",
    "\n",
    "    반대로 해답의 가능성이 있으면 유망하다고 함\n",
    "\n",
    "    가지치기(Pruning) : 유망하지 않은 노드가 포함되는 경로는 더 이상 고려하지 않음"
   ],
   "cell_type": "markdown",
   "metadata": {}
  },
  {
   "source": [
    "2. 백트래킹을 이용한 알고리즘의 절차\n",
    "\n",
    "    1) 상태공간 Tree의 깊이 우선 검색을 실시\n",
    "\n",
    "    2) 각 노드가 유망한지를 점검\n",
    "\n",
    "    3) 만일 그 노드가 유망하지 않으면, 그 노드의 부모 노드로 돌아가서 검색을 계속\n"
   ],
   "cell_type": "markdown",
   "metadata": {}
  },
  {
   "source": [
    "3. 일반 백트래킹 알고리즘\n",
    "\n",
    "> n*n의 정사각형 안에 n개의 queen을 배치하는 문제로, 모든 queen은 자신의 일직선상 및 대각선상에 아무 것도 놓이지 않아야함\n"
   ],
   "cell_type": "markdown",
   "metadata": {}
  },
  {
   "cell_type": "code",
   "execution_count": null,
   "metadata": {},
   "outputs": [],
   "source": [
    "def checknode(v): #node\n",
    "    if promising(v):\n",
    "        if there is a solition at v:\n",
    "            write the solition\n",
    "        else:\n",
    "            for u in each child of v:\n",
    "                checknode(u)"
   ]
  },
  {
   "source": [
    "4. Power set\n",
    "\n",
    "* 어떤 집합의 공집합과 자기자신을 포함한 모든 부분집합\n",
    "\n",
    "* 구하고자 하는 어떤 집합의 원소 개수가 n일 경우 부분 집합의 개수는 2^n이 나옴\n",
    "\n",
    "1) 일반적인 백트래킹 접근 방법 이용\n",
    "\n",
    "2) n개의 원소가 들어있는 집합의 2^n개의 부분 집합을 만들때, True, False값을 가지는 항목들로 구성된 n개의 리스트를 만드는 방법 이용\n",
    "\n",
    "3) 리스트의 i 번째 항목은 i 번째의 원소가 부분 집합의 값인지 아닌지를 나타내는 값"
   ],
   "cell_type": "markdown",
   "metadata": {}
  },
  {
   "cell_type": "code",
   "execution_count": 3,
   "metadata": {
    "tags": []
   },
   "outputs": [
    {
     "output_type": "stream",
     "name": "stdout",
     "text": "(123)\n(12)\n(13)\n(1)\n(23)\n(2)\n(3)\n()\n"
    }
   ],
   "source": [
    "# Power set Back Tracking Algorithm\n",
    "def process_solution(a, k): # 1, 2, 3 출력\n",
    "    print(\"(\", end=\"\")\n",
    "    for i in range(k+1):\n",
    "        if a[i]:\n",
    "            print(i, end=\"\")\n",
    "    print(\")\")\n",
    "\n",
    "def construct_candidates(a, k, input, c):\n",
    "    c[0] = True\n",
    "    c[1] = False\n",
    "    return 2\n",
    "\n",
    "def backtrack(a, k, input):\n",
    "    global MAXCANDIDATES\n",
    "    c = [0] * MAXCANDIDATES\n",
    "\n",
    "    if k == input:\n",
    "        process_solution(a, k) # 답이면 원하는 작업을 한다\n",
    "    else:\n",
    "        k += 1\n",
    "        ncandidates = construct_candidates(a, k, input, c)\n",
    "        for i in range(ncandidates):\n",
    "            a[k] = c[i]\n",
    "            backtrack(a, k, input)\n",
    "\n",
    "MAXCANDIDATES = 100\n",
    "NMAX = 100\n",
    "a = [0] * NMAX\n",
    "backtrack(a, 0, 3)"
   ]
  },
  {
   "source": [
    "# 순열을 구하는 백트래킹 알고리즘\n",
    "def backtrack(a, k, input):\n",
    "    global MAXCANDIDATES\n",
    "    c = [0] * MAXCANDIDATES\n",
    "\n",
    "    if k == input:\n",
    "        for i in range(1, k+1):\n",
    "            print(a[i], end=\"\")\n",
    "        print()\n",
    "    else:\n",
    "        k+=1\n",
    "        ncandidates = construct_candidates(a, k, input, c)\n",
    "        for i in range(ncandidates):\n",
    "            a[k] = c[i]\n",
    "            backtrack(a, k, input)\n",
    "\n",
    "def construct_candidates(a, k, input, c):\n",
    "    in_perm = [False] * NMAX\n",
    "\n",
    "    for i in range(1, k):\n",
    "        in_perm[a[i]] = True\n",
    "\n",
    "    ncandidates = 0\n",
    "    for i in range(1, input+1):\n",
    "        if in_perm[i] == False:\n",
    "            c[ncandidates] = i\n",
    "            ncandidates += 1\n",
    "    return ncandidates"
   ],
   "cell_type": "code",
   "metadata": {},
   "execution_count": 4,
   "outputs": []
  },
  {
   "source": [
    "## 3. 분할 정복"
   ],
   "cell_type": "markdown",
   "metadata": {}
  },
  {
   "source": [
    "1. 분할\n",
    "\n",
    "2. 정복\n",
    "\n",
    "3. 통합"
   ],
   "cell_type": "markdown",
   "metadata": {}
  },
  {
   "cell_type": "code",
   "execution_count": null,
   "metadata": {},
   "outputs": [],
   "source": [
    "# 거듭제곱 알고리즘 O(n)\n",
    "def Power(Base, Exponent):\n",
    "    if Base == 0: return 1\n",
    "    result = 1 # Base^0은 1 이므로\n",
    "    for i in range(Exponent):\n",
    "        result *= Base\n",
    "    return result"
   ]
  },
  {
   "source": [
    "# 분할 정복 기반의 알고리즘 : O(log_2(n))\n",
    "def Power(Base, Exponent):\n",
    "    if Exponent == 0 or Base == 0:\n",
    "        return 1\n",
    "    if Exponent % 2 == 0:\n",
    "        NewBase = Power(Base, Exponent/2)\n",
    "        return NewBase * NewBase\n",
    "    else:\n",
    "        NewBase = Power(Base, (Exponent-1) / 2 )\n",
    "        return (NewBase * NewBase) * Base"
   ],
   "cell_type": "code",
   "metadata": {},
   "execution_count": null,
   "outputs": []
  },
  {
   "source": [
    "### 퀵 정렬과 합병 정렬의 비교\n",
    "\n",
    "* 공통점  주어진 리스트를 두 개로 분할하고, 각각을 정렬\n",
    "\n",
    "* 차이점\n",
    "\n",
    "> 합병정렬\n",
    "\n",
    ">> 분할할 때, 단순하게 두 부분으로 나눔\n",
    "\n",
    ">> 각 부분 정렬이 끝난 후, '합병'이란 후처리 작업이 필요\n",
    "\n",
    "> 퀵 정렬\n",
    "\n",
    ">> 분할할 때, 기준 아이템 (Pivot Item)을 중심으로, 이보다 작은 것은 왼편, 큰 것은 오른편에 위치시킴\n",
    "\n",
    ">> 각 부분 정렬이 끝난 후, 후처리 작업이 필요로 하지 않음\n",
    "\n",
    ">> 최악의 경우 O(n^2) 근데 왜 Quick 정렬? 평균적으로 시간복잡도가 O(nlogn)이므로!"
   ],
   "cell_type": "markdown",
   "metadata": {}
  },
  {
   "source": [
    "# 퀵 정렬 알고리즘\n",
    "def quickSort(a, begin, end):\n",
    "    if begin < end:\n",
    "        p = partition(a, begin, end)\n",
    "        quickSort(a, begin, p-1)\n",
    "        quickSort(a, p+1, end)"
   ],
   "cell_type": "code",
   "metadata": {},
   "execution_count": null,
   "outputs": []
  },
  {
   "cell_type": "code",
   "execution_count": null,
   "metadata": {},
   "outputs": [],
   "source": [
    "# 주어진 리스트에서 피봇을 구하는 알고리즘\n",
    "def partition(a, begin, end):\n",
    "    pivot = (begin + end) // 2\n",
    "    L = begin\n",
    "    R = end\n",
    "    while L < R:\n",
    "        while(a[L] < a[pivot] and L < R): L += 1\n",
    "        while(a[R] >= a[pivot] and L < R): R -= 1\n",
    "        if L < R:\n",
    "            if L == pivot: pivot = R\n",
    "            a[L], a[R] = a[R], a[L]\n",
    "        a[pivot], a[R] = a[R], a[pivot]\n",
    "    return R"
   ]
  }
 ]
}