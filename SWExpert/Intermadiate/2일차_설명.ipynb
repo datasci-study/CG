{
 "metadata": {
  "language_info": {
   "codemirror_mode": {
    "name": "ipython",
    "version": 3
   },
   "file_extension": ".py",
   "mimetype": "text/x-python",
   "name": "python",
   "nbconvert_exporter": "python",
   "pygments_lexer": "ipython3",
   "version": "3.8.5-final"
  },
  "orig_nbformat": 2,
  "kernelspec": {
   "name": "python_defaultSpec_1598885640760",
   "display_name": "Python 3.8.5 64-bit ('base': conda)"
  }
 },
 "nbformat": 4,
 "nbformat_minor": 2,
 "cells": [
  {
   "cell_type": "markdown",
   "metadata": {},
   "source": [
    "### 2차원 LIST"
   ]
  },
  {
   "cell_type": "markdown",
   "metadata": {},
   "source": [
    "* 2차원 list 자료구조"
   ]
  },
  {
   "cell_type": "code",
   "execution_count": null,
   "metadata": {
    "tags": []
   },
   "outputs": [],
   "source": [
    "arr = [0, 0, 0, 0, 0]\n",
    "print(arr)\n",
    "arr = [0] * 5\n",
    "print(arr)\n",
    "arr = [i for i in range(2,9) if i%2 == 0]\n",
    "print(arr)"
   ]
  },
  {
   "cell_type": "code",
   "execution_count": null,
   "metadata": {
    "tags": []
   },
   "outputs": [],
   "source": [
    "brr = [[1,2,3], [1,2,3], [1,2,3]]\n",
    "print(brr)\n",
    "brr = [[1,2,3]*3]\n",
    "print(brr)\n",
    "brr = [[1,2,3] for i in range(3)]\n",
    "print(brr)\n",
    "brr = [[i,j] for i in range(3) for j in range(2)]\n",
    "print(brr)"
   ]
  },
  {
   "cell_type": "markdown",
   "metadata": {},
   "source": [
    "* 2차원 List 입력받기"
   ]
  },
  {
   "cell_type": "code",
   "execution_count": null,
   "metadata": {
    "tags": []
   },
   "outputs": [],
   "source": [
    "# [입력 예] \n",
    "# 3 4\n",
    "# 0 1 0 0\n",
    "# 0 0 0 0\n",
    "# 0 0 1 0"
   ]
  },
  {
   "cell_type": "code",
   "execution_count": null,
   "metadata": {
    "tags": []
   },
   "outputs": [],
   "source": [
    "# 예 1\n",
    "n, m = map(int, input().split())\n",
    "mylist = [0 for _ in range(n)]\n",
    "# mylist = [0]*n\n",
    "\n",
    "for i in range(n):\n",
    "    mylist[i] = list(map(int, input().split()))\n",
    "print(mylist)"
   ]
  },
  {
   "cell_type": "code",
   "execution_count": null,
   "metadata": {
    "tags": []
   },
   "outputs": [],
   "source": [
    "# 예 2\n",
    "n, m = map(int, input().split())\n",
    "mylist = []\n",
    "for i in range(n):\n",
    "    mylist.append(list(map(int, input().split())))\n",
    "print(mylist)"
   ]
  },
  {
   "cell_type": "code",
   "execution_count": null,
   "metadata": {
    "tags": []
   },
   "outputs": [],
   "source": [
    "# 예 3\n",
    "n, m = map(int, input().split())\n",
    "mylist = [list(map(int, input().split())) for _ in range(n)]\n",
    "print(mylist)"
   ]
  },
  {
   "cell_type": "markdown",
   "metadata": {},
   "source": [
    "* 2차원 List에서 원하는 데이터의 위치 찾기"
   ]
  },
  {
   "cell_type": "code",
   "execution_count": null,
   "metadata": {},
   "outputs": [],
   "source": [
    "# [입력 예] \n",
    "# 3 4\n",
    "# 0 1 0 0\n",
    "# 0 0 0 0\n",
    "# 0 0 1 0"
   ]
  },
  {
   "cell_type": "code",
   "execution_count": null,
   "metadata": {
    "tags": []
   },
   "outputs": [],
   "source": [
    "#  예시 1\n",
    "n, m = map(int, input().split())\n",
    "newlist = []\n",
    "mylist = [0 for _ in range(n)]\n",
    "for i in range(n):\n",
    "    mylist[i] = list(map(int, input().split()))\n",
    "    for j in range(m):\n",
    "        if mylist[i][j] == 1:\n",
    "            newlist.append([i,j])\n",
    "print(newlist)"
   ]
  },
  {
   "cell_type": "code",
   "execution_count": null,
   "metadata": {
    "tags": []
   },
   "outputs": [],
   "source": [
    "# 예시 2\n",
    "n, m = map(int, input().split())\n",
    "mylist = [list(map(int, input().split())) for _ in range(n)]\n",
    "newlist = [(i, j) for i in range(n) for j in range(m) if mylist[i][j]==1]\n",
    "print(newlist)"
   ]
  },
  {
   "cell_type": "markdown",
   "metadata": {},
   "source": [
    "* List 순회\n",
    "\n",
    "        n by m 개의 모든 원소를 빠짐 없이 조사하는 방법\\\n",
    "1) 행 우선 순회\n",
    "2) 열 우선 순회\n",
    "3) 지그재그 순회\n"
   ]
  },
  {
   "cell_type": "code",
   "execution_count": null,
   "metadata": {
    "tags": []
   },
   "outputs": [],
   "source": [
    "# 1) 행 우선 순회\n",
    "arr = [[0, 1, 2, 3],\n",
    "    [4, 5, 6, 7],\n",
    "    [8, 9, 10, 11]]\n",
    "\n",
    "for i in range(len(arr)):\n",
    "    for j in range(len(arr[i])):\n",
    "        print(arr[i][j])\n"
   ]
  },
  {
   "cell_type": "code",
   "execution_count": null,
   "metadata": {
    "tags": []
   },
   "outputs": [],
   "source": [
    "# 2) 열 우선 순회\n",
    "arr = [[0, 1, 2, 3],\n",
    "    [4, 5, 6, 7],\n",
    "    [8, 9, 10, 11]]\n",
    "\n",
    "for j in range(len(arr[0])):\n",
    "    for i in range(len(arr)):\n",
    "        print(arr[i][j])"
   ]
  },
  {
   "cell_type": "code",
   "execution_count": null,
   "metadata": {
    "tags": []
   },
   "outputs": [],
   "source": [
    "# 3) 지그재그 순회\n",
    "for i in range(len(arr)):\n",
    "    for j in range(len(arr[0])):\n",
    "        arr[i][j+(m-1-2*j)*(i%2)]\n",
    "print(arr)"
   ]
  },
  {
   "cell_type": "markdown",
   "metadata": {},
   "source": [
    "* 델타를 이용한 2차 List 탐색\n",
    "\n",
    "        좌우상하를 나타내는 델타값을 이용하여 특정 원소의 상하좌우에 위치한 원소에 접근할 수 있음"
   ]
  },
  {
   "cell_type": "code",
   "execution_count": null,
   "metadata": {
    "tags": []
   },
   "outputs": [],
   "source": [
    "# arr[0...n-1][0...n-1] : 2차원 list\n",
    "arr = [[0, 1, 2, 3],\n",
    "    [4, 5, 6, 7],\n",
    "    [8, 9, 10, 11]]\n",
    "    \n",
    "dx = [0, 0, -1, 1] #상하좌우\n",
    "dy = [-1, 1, 0, 0]\n",
    "\n",
    "for x in range(len(arr)):\n",
    "    for y in range(len(arr[x])):\n",
    "        for i in range(4):\n",
    "            textX = x + dx[i]\n",
    "            testY = y + dy[i]\n",
    "            print(arr[textX][testY])\n"
   ]
  },
  {
   "cell_type": "markdown",
   "metadata": {},
   "source": [
    "* 전치행렬\n",
    "        \n",
    "        행과 열의 값이 반대인 행렬을 의미\n",
    "\n",
    "        모든 좌표에 대해 행과 열을 바꾸면 본래의 모습으로 돌아오기에 주의\n"
   ]
  },
  {
   "cell_type": "code",
   "execution_count": null,
   "metadata": {
    "tags": []
   },
   "outputs": [],
   "source": [
    "arr = [[1,2,3], [4,5,6], [7,8,9]]\n",
    "\n",
    "for i in range(3):\n",
    "    for j in range(3):\n",
    "        if i<j:\n",
    "            arr[i][j], arr[j][i] = arr[j][i], arr[i][j]\n",
    "\n",
    "print(arr)"
   ]
  },
  {
   "cell_type": "markdown",
   "metadata": {},
   "source": [
    "* zip (iterable)\n",
    "\n",
    "        동일한 개수로 이루어진 자료형들을 묶어주는 역할\n",
    "        "
   ]
  },
  {
   "cell_type": "code",
   "execution_count": null,
   "metadata": {
    "tags": []
   },
   "outputs": [],
   "source": [
    "alpha = ['a', 'b', 'c']\n",
    "index = [1, 2, 3]\n",
    "\n",
    "new = dict(zip(alpha, index))\n",
    "print(new)\n",
    "new = list(zip(alpha, index))\n",
    "print(new)"
   ]
  },
  {
   "cell_type": "code",
   "execution_count": null,
   "metadata": {
    "tags": []
   },
   "outputs": [],
   "source": [
    "# zip(*arr) : 전치행렬을 의미\n",
    "arr = [[1,2,3], [4,5,6], [7,8,9]]\n",
    "print(list(zip(*arr)))\n"
   ]
  },
  {
   "cell_type": "markdown",
   "metadata": {},
   "source": [
    "### 부분집합"
   ]
  },
  {
   "cell_type": "markdown",
   "metadata": {},
   "source": [
    "* Loop를 이용하여 확인하고, 부분 집합을 생성하는 방법"
   ]
  },
  {
   "cell_type": "code",
   "execution_count": null,
   "metadata": {
    "tags": []
   },
   "outputs": [],
   "source": [
    "bit = [0, 0, 0, 0]\n",
    "for i in range(2):\n",
    "    bit[0] = i\n",
    "    for j in range(2):\n",
    "        bit[1] = j\n",
    "        for k in range(2):\n",
    "            bit[2] = k\n",
    "            for l in range(2):\n",
    "                bit[3] = l\n",
    "                print(bit)\n",
    "\n"
   ]
  },
  {
   "cell_type": "markdown",
   "metadata": {},
   "source": [
    "* 비트 연산자\n",
    "\n",
    "    &\n",
    "    \n",
    "    |\n",
    "\n",
    "    <<>>"
   ]
  },
  {
   "cell_type": "code",
   "execution_count": null,
   "metadata": {
    "tags": []
   },
   "outputs": [],
   "source": [
    "arr = [3, 6, 7, 1, 5, 4]\n",
    "n = len(arr)\n",
    "\n",
    "for i in range(1<<n): # 원소의 갯수 n개 일 경우 모든 부분 집합의 수를 의미\n",
    "    for j in range(n): # 부분집합의 갯수 0개일때부터 6개 일때까지\n",
    "        if i & (1<<j): # 1<<j : i에서 j번째 비트가 1인지 아닌지를 리턴함\n",
    "            print(arr[j], end = \",\")\n",
    "    print()"
   ]
  },
  {
   "cell_type": "markdown",
   "metadata": {},
   "source": [
    "### 검색"
   ]
  },
  {
   "cell_type": "markdown",
   "metadata": {},
   "source": [
    "* 검색\n",
    "\n",
    "        저장된 자료중 원하는 항목을 찾는 작업\n",
    "        \n",
    "        원하는 항목 : 목적하는 탐색키를 가진 항목\n",
    "\n",
    "        탐색키 : 자료를 구별하여 인식할 수 있는 키\n",
    "\n",
    "    검색의 종류\n",
    "\n",
    "    1) Sequential Search\n",
    "\n",
    "    2) Binary WSearch\n",
    "\n",
    "    3) Indexing"
   ]
  },
  {
   "cell_type": "markdown",
   "metadata": {},
   "source": [
    "* 순차 검색\n",
    "\n",
    "        일렬로 되어 있는 자료를 순서대로 검색하는 방법\n",
    "\n",
    "        list나 연결 list등 순차구조로 구현된 자료구조에서 유용\n",
    "        \n",
    "        구현 쉽지만, 검색 대상이 많은 경우 수행시간의 증가로 비효율 적임\n",
    "        \n",
    "        평균 비교 횟수 : 1 / n * (1+2+...+n) = (n+1) / 2\n",
    "\n",
    "        시간 복잡도 : O(n)\n",
    "        "
   ]
  },
  {
   "cell_type": "code",
   "execution_count": null,
   "metadata": {},
   "outputs": [],
   "source": [
    "# ex) 자료가 정렬되지 않은 경우\n",
    "def sequentialSearch(a, n, key):\n",
    "    i=0\n",
    "    while i < n and a[i] != key:\n",
    "        i = i+1\n",
    "\n",
    "    if i < n: return i\n",
    "    else: return -1\n"
   ]
  },
  {
   "cell_type": "code",
   "execution_count": null,
   "metadata": {},
   "outputs": [],
   "source": [
    "# ex) 자료가 정렬되어 있는 경우\n",
    "def sequentialSearch(a, n, key):\n",
    "    i=0\n",
    "    while i < n and a[i] < key:\n",
    "        i = i+1\n",
    "\n",
    "    if i < n and a[i] == key: return i\n",
    "    else: return -1\n"
   ]
  },
  {
   "cell_type": "markdown",
   "metadata": {},
   "source": [
    "* 이진검색\n",
    "\n",
    "        가운데 항목의 키 값과 비교하여 다음 검색의 위치를 결정하고 검색\n",
    "\n",
    "        O(logN)"
   ]
  },
  {
   "cell_type": "code",
   "execution_count": null,
   "metadata": {},
   "outputs": [],
   "source": [
    "# ex) 검색의 시작점과 끝점을 이용\n",
    "def binartSearch(a, key):\n",
    "    start = 0\n",
    "    end = len(a) - 1\n",
    "    while start <= end:\n",
    "        middle = start + (end - start) // 2\n",
    "        if key == a[middle]: # 검색 성공\n",
    "            return True\n",
    "        elif key < a[middle]:\n",
    "            end = middle - 1\n",
    "        else:\n",
    "            start = middle + 1\n",
    "            return False # 검색실패"
   ]
  },
  {
   "cell_type": "code",
   "execution_count": null,
   "metadata": {},
   "outputs": [],
   "source": [
    "# ex) 재귀 함수를 이용한 이진 검색 구현\n",
    "def binarySearch2(a, low, high, key):\n",
    "    if low > high: # 검색 실패\n",
    "        return False\n",
    "    else:\n",
    "        middle = (low + high) // 2\n",
    "        if key == a[middle]: # 검색 성공\n",
    "            return True\n",
    "        elif key < a[middle]:\n",
    "            return binarySearch2(a, low, middle-1, key)\n",
    "        elif a[middle] < key:\n",
    "            return binarySearch2(a, middle+1, high, key)"
   ]
  },
  {
   "cell_type": "markdown",
   "metadata": {},
   "source": [
    "* 인덱스\n",
    "\n",
    "        DB에서 유래, 테이블에 대한 동작 속도를 높임\n",
    "\n",
    "        Look up Table 등의 용어로 사용됨\n",
    "\n",
    "        인덱스 저장 필요공간 작음"
   ]
  },
  {
   "cell_type": "code",
   "execution_count": null,
   "metadata": {},
   "outputs": [],
   "source": [
    "# 원본 데이터 list와 별개로, list 인덱스를 추가한 예\n"
   ]
  },
  {
   "cell_type": "markdown",
   "metadata": {},
   "source": [
    "### 정렬"
   ]
  },
  {
   "cell_type": "markdown",
   "metadata": {},
   "source": [
    "* 셀렉션 알고리즘\n",
    "\n",
    "        저장돼 있는 자료로부터 K번째로 작거나 큰 원소를 찾는 방법\n",
    "\n",
    "        가장 작은 값의 원소부터 차례대로 선택해 위치를 교환하는 방식\n",
    "\n",
    "\n",
    "        예) 포켓볼 순서대로 정렬하기\n",
    "                \n",
    "                당구대 위에 있는 공 중 가장 작은 숫자의 공부터 차례대로 정리\n",
    "\n",
    "        O(n^2)"
   ]
  },
  {
   "cell_type": "code",
   "execution_count": null,
   "metadata": {},
   "outputs": [],
   "source": [
    "# ex) k번째로 작은 원소를 찾는 알고리즘\n",
    "# k가 작을때 유용, O(kn)\n",
    "def select(list, k):\n",
    "    for i in range(0, k):\n",
    "        minIndex = i\n",
    "        for j in range(i+1, len(list)):\n",
    "            if list[minIndex] > list[j]:\n",
    "                minIndex = j\n",
    "        list[i], list[minIndex] = list[minIndex], list[i]\n",
    "    return list[k-1]"
   ]
  },
  {
   "cell_type": "code",
   "execution_count": null,
   "metadata": {},
   "outputs": [],
   "source": [
    "# Pseudo code\n",
    "def selectionSort(a):\n",
    "    for i in range(0, len(a)-1):\n",
    "        min = i\n",
    "        for j in range(i+1, len(a)):\n",
    "            if a[min] > a[j]:\n",
    "                min = j\n",
    "        a[i], a[min] = a[min], a[i]"
   ]
  },
  {
   "cell_type": "code",
   "execution_count": null,
   "metadata": {},
   "outputs": [],
   "source": []
  }
 ]
}