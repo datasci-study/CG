{
 "metadata": {
  "language_info": {
   "codemirror_mode": {
    "name": "ipython",
    "version": 3
   },
   "file_extension": ".py",
   "mimetype": "text/x-python",
   "name": "python",
   "nbconvert_exporter": "python",
   "pygments_lexer": "ipython3",
   "version": "3.8.5-final"
  },
  "orig_nbformat": 2,
  "kernelspec": {
   "name": "python_defaultSpec_1600298436573",
   "display_name": "Python 3.8.5 64-bit"
  }
 },
 "nbformat": 4,
 "nbformat_minor": 2,
 "cells": [
  {
   "source": [
    "## Stack"
   ],
   "cell_type": "markdown",
   "metadata": {}
  },
  {
   "source": [
    "## I. 자료구조의 개념"
   ],
   "cell_type": "markdown",
   "metadata": {}
  },
  {
   "source": [
    "### 1. 스택의 특성\n",
    "    * 프로그램에서 중요성과 활용도가 매우 높은 자료구조\n",
    "\n",
    "    1) 물건을 쌓아 올리듯 자료를 쌓아 올린 형태\n",
    "\n",
    "    2) 스택에 저장된 자료는 선형구조를 가짐 (자료간의 관계가 1:1)\n",
    "\n",
    "    3) 스택에 자료를 삽입하거나 스택에서 자료를 꺼낼 수 있음\n",
    "\n",
    "    4) 마지막에 삽입한 자료를 가장 먼저 꺼냄\n",
    "\n",
    "    5) LIFO"
   ],
   "cell_type": "markdown",
   "metadata": {}
  },
  {
   "source": [
    "### 2. 스택의 구현\n",
    "\n",
    "* 자료구조\n",
    "\n",
    "    - 자료를 선형으로 저장할 저장소가 필요함\n",
    "    \n",
    "    - 저장소 자체를 스택이라 함 (C에서 배열, 파이썬에서 list)\n",
    "\n",
    "    - 마지막 삽입된 원소의 위치를 top이라 부름\n",
    "\n",
    "* 연산 \n",
    "\n",
    "    - 삽입 : 저장소에 자료 저장, 보통 push라고 부름\n",
    "\n",
    "    - 삭제 : 저장소에서 자료를 꺼냄. 삽입한 자료의 역순으로 꺼냄. 보통 pop이라 부름\n",
    "\n",
    "    - isEmpty : 공백인지 아닌지 확인하는 연산\n",
    "\n",
    "    - peek : 스택의 top에 있는 item(원소)을 반환하는 연산\n",
    "    \n",
    "    "
   ],
   "cell_type": "markdown",
   "metadata": {}
  },
  {
   "source": [
    "### 3. 스택의 삽입/삭제 연산 과정"
   ],
   "cell_type": "markdown",
   "metadata": {}
  },
  {
   "source": [
    "1) push\n",
    "\n",
    "    def push(item):\n",
    "    \n",
    "        s.append(item)\n",
    "\n",
    " 2) pop (-1은 pop의 초깃값으로 자료가 없음을 나타냄)\n",
    "\n",
    "    def pop():\n",
    "\n",
    "        if len(s) == 0: # stack에 자료가 없음\n",
    "\n",
    "            # underflow\n",
    "\n",
    "            return\n",
    "\n",
    "        else:\n",
    "        \n",
    "            return s.pop(-1) # 마지막 위치의 값을 삭제하고 리턴\n"
   ],
   "cell_type": "markdown",
   "metadata": {}
  },
  {
   "source": [
    "#### 구현하기\n",
    "\n",
    "1) 스택을 구현하기\n",
    "\n",
    "2) 구현한 스택을 이용하여 3개의 데이터를 스택에 저장하고 다시 3번 꺼내서 출력하기\n"
   ],
   "cell_type": "markdown",
   "metadata": {}
  },
  {
   "cell_type": "code",
   "execution_count": null,
   "metadata": {},
   "outputs": [],
   "source": [
    "def push(item):\n",
    "    s.append(item)\n",
    "\n",
    "def pop():\n",
    "    if len(s) == 0:\n",
    "        print(\"Stack is Empty!!\") # underflow\n",
    "        return\n",
    "    else:\n",
    "        return s.pop(-1)\n",
    "s=[]\n",
    "push(1)\n",
    "push(2)\n",
    "push(3)\n",
    "print(\"pop item =>\", pop())\n",
    "print(\"pop item =>\", pop())\n",
    "print(\"pop item =>\", pop())"
   ]
  },
  {
   "source": [
    "리스트를 사용하여 스택 구현하는 경우\n",
    "\n",
    "장점 : 구현이 용이\n",
    "\n",
    "단점 : 리스트 크기를 변경하는 작업은 큰 overhead 발생으로 많은 시간 소요\n",
    "\n",
    "-> 해결법\n",
    "\n",
    "1. 리스트의 크기를 배열처럼 미리 정하기\n",
    "\n",
    "2. 동적 연결리스트를 이용하여 저장소를 동적으로 할당하여 스택을 구현"
   ],
   "cell_type": "markdown",
   "metadata": {}
  },
  {
   "source": [
    "## II. Stack의 응용"
   ],
   "cell_type": "markdown",
   "metadata": {}
  },
  {
   "source": [
    "### 1. 괄호검사"
   ],
   "cell_type": "markdown",
   "metadata": {}
  },
  {
   "source": [
    "ex) 스택을 이용한 괄호 검사\n",
    "\n",
    "if( (i==0) && (j==0)"
   ],
   "cell_type": "markdown",
   "metadata": {}
  },
  {
   "source": [
    "1) 괄호 조사 알고리즘 개요"
   ],
   "cell_type": "markdown",
   "metadata": {}
  },
  {
   "source": [
    "1. 문자열에 있는 괄호를 차례로 조사\n",
    "\n",
    "2.1. 왼쪽 괄호를 만나면 스택에 삽입\n",
    "\n",
    "2.2. 오른쪽 괄호를 만나면 스택에서 top괄호를 삭제한 후 오른쪽 괄호와 짝이 맞는지 확인\n",
    "\n",
    "2.2.1 스택이 비어있음\n",
    "\n",
    "2.2.2 괄호의 짝이 맞지 않음\n",
    "\n",
    "2.2.3 문자열 끝까지 조사한 후에도 스택에 괄호가 남아있음\n",
    "\n"
   ],
   "cell_type": "markdown",
   "metadata": {}
  },
  {
   "source": [
    "### 2. 함수 호출"
   ],
   "cell_type": "markdown",
   "metadata": {}
  },
  {
   "source": [
    "재귀호출\n",
    "\n",
    "    1) 프로그램의 크기를 줄이고 간단하게 작성 가능\n",
    "    \n",
    "    2) 디버깅이 어렵고 잘못 작성시 소요시간이 오래 걸림"
   ],
   "cell_type": "markdown",
   "metadata": {}
  },
  {
   "source": [
    "# ex) factorial\n",
    "def fact(n):\n",
    "    return n * fact(n-1)\n"
   ],
   "cell_type": "code",
   "metadata": {},
   "execution_count": null,
   "outputs": []
  },
  {
   "source": [
    "## III. Memoization"
   ],
   "cell_type": "markdown",
   "metadata": {}
  },
  {
   "source": [
    "1. 피보나치 수열"
   ],
   "cell_type": "markdown",
   "metadata": {}
  },
  {
   "cell_type": "code",
   "execution_count": null,
   "metadata": {},
   "outputs": [],
   "source": [
    "def fibo(n):\n",
    "    if n < 2:\n",
    "        return n\n",
    "    else:\n",
    "        return fibo(n-1) + fibo(n-2)\n",
    "\n",
    "# 엄청난 중복호출이 존재\n",
    "# 이 단점을 극복하기 위한 것이 Memoization"
   ]
  },
  {
   "source": [
    "2. Memoization의 의미\n",
    "\n",
    "    1) 이전에 계산한 값을 메모리에 저장\n",
    "\n",
    "    2) DP(동적계획법)의 핵심이 되는 기술\n",
    "\n",
    "    3) 글자 그대로 메모리에 넣기\n"
   ],
   "cell_type": "markdown",
   "metadata": {}
  },
  {
   "source": [
    "3. 피보나치 수열 with Memoization"
   ],
   "cell_type": "markdown",
   "metadata": {}
  },
  {
   "cell_type": "code",
   "execution_count": null,
   "metadata": {},
   "outputs": [],
   "source": [
    "# memo를 위한 리스트를 생성하고,\n",
    "# memo[0]을 0으로 memo[1]는 1로 초기화한다.\n",
    "\n",
    "def fibo1(n):\n",
    "    global memo\n",
    "    if n >= 2 and len(memo) <= n:\n",
    "        memo.append(fibo1(n-1) + fibo1(n-2))\n",
    "    return memo[n]\n",
    "\n",
    "memo[0,1]\n",
    "\n",
    "# 만약 기존에 계산하여 저장된 값이 있다면 다시 계산하지 않겠다는 알고리즘"
   ]
  },
  {
   "source": [
    "## IV. DP(Dynamic Programming, 동적 계획법)"
   ],
   "cell_type": "markdown",
   "metadata": {}
  },
  {
   "source": [
    "1. DP (동적 계획법 알고리즘)\n",
    "\n",
    "    1) 그리디 알고리즘 같이 최적화 문제 해결 위함\n",
    "    \n",
    "    2) 입력 크기가 작은 부분 문제들을 모두 해결 후 그 해 들을 이용해 보다 큰 크기의 부분 문제들 해결\n",
    "\n",
    "    3) 최종적으로 원해 주어진 입력의 문제를 해결"
   ],
   "cell_type": "markdown",
   "metadata": {}
  },
  {
   "source": [
    "2. DP를 적용한 피보나치 수\n",
    "\n",
    "    1) 문제를 부분 문제로 분할\n",
    "\n",
    "    2) 부분 문제로 나누는 일을 끝냈으면 가장 작은 부분 문제부터 해를 구함\n",
    "\n",
    "    3) 결과는 테이블에 저장하고, 테이블에 저장된 부분 문제의 해를 이용하여 상위 문제의 해를 구함"
   ],
   "cell_type": "markdown",
   "metadata": {}
  },
  {
   "cell_type": "code",
   "execution_count": null,
   "metadata": {},
   "outputs": [],
   "source": [
    "def fibo2(n):\n",
    "    f[0,1]\n",
    "\n",
    "    for i in range(2, n+1):\n",
    "        f.append(f[i-1] + f[i-2])\n",
    "\n",
    "    return f[n]"
   ]
  },
  {
   "source": [
    "3. DP의 구현 방식\n",
    "\n",
    "    1) recursive 방식 : fibo1()\n",
    "        \n",
    "        재귀적 구조는 내부에 시스템 호풀 스택을 사용하는 overhead가 발생할 수 있음\n",
    "\n",
    "    2) iterative 방식 : fibo2()\n",
    "\n",
    "        Memoization을 재귀적 구조에 사용하는 것보다 반복적 구조로 DP를 구현한 것이 성능 면에서 보다 효율적"
   ],
   "cell_type": "markdown",
   "metadata": {}
  },
  {
   "source": [
    "## DFS (깊이 우선 탐색)"
   ],
   "cell_type": "markdown",
   "metadata": {}
  },
  {
   "source": [
    "1. DFS 란?\n",
    "\n",
    "    1) 비선형 구조인 그래프 구조는 그래프로 표현된 모든 자료를 빠짐없이 검색하는 것이 중요\n",
    "\n",
    "    * Depth First Search DFS 깊이 우선 탐색\n",
    "\n",
    "    * Breadth First Search BFS 너비 우선 탐색\n",
    "\n",
    "    2) 깊이 우선 탐색 방법\n",
    "\n",
    "        (1) 한 방향으로 깊게 파기\n",
    "\n",
    "        (2) 갈 곳 없으면 마지막 갈림길이 있던 정점으로 되돌아 옴\n",
    "\n",
    "        (3) 결국 모든 정점 방문하여 순회\n",
    "\n",
    "        therefore LIFO 알고리즘 사용\n",
    "        "
   ],
   "cell_type": "markdown",
   "metadata": {}
  },
  {
   "cell_type": "code",
   "execution_count": 5,
   "metadata": {},
   "outputs": [
    {
     "output_type": "error",
     "ename": "SyntaxError",
     "evalue": "invalid syntax (<ipython-input-5-c4beb5b93d1e>, line 1)",
     "traceback": [
      "\u001b[1;36m  File \u001b[1;32m\"<ipython-input-5-c4beb5b93d1e>\"\u001b[1;36m, line \u001b[1;32m1\u001b[0m\n\u001b[1;33m    visited[], stack[] # 초기화\u001b[0m\n\u001b[1;37m            ^\u001b[0m\n\u001b[1;31mSyntaxError\u001b[0m\u001b[1;31m:\u001b[0m invalid syntax\n"
     ]
    }
   ],
   "source": [
    "visited[], stack[] # 초기화\n",
    "\n",
    "DFS(v)\n",
    "    v 방문;\n",
    "    visited[v] <-true;\n",
    "    do{\n",
    "        if (v의 인접 정점 중 방문 안 한 w 찾기)\n",
    "            push(v);\n",
    "        while( w ){\n",
    "            w 방문;\n",
    "            visited[w] <- true;\n",
    "            push(w);\n",
    "            v <- w;\n",
    "            v의 인접 정점 중 방문 안 한 w 찾기\n",
    "        }\n",
    "        v <- pop(stack);\n",
    "    }while(v)\n",
    "end DFS()"
   ]
  },
  {
   "cell_type": "code",
   "execution_count": null,
   "metadata": {},
   "outputs": [],
   "source": []
  }
 ]
}