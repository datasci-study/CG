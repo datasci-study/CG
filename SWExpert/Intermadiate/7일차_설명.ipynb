{
 "metadata": {
  "language_info": {
   "codemirror_mode": {
    "name": "ipython",
    "version": 3
   },
   "file_extension": ".py",
   "mimetype": "text/x-python",
   "name": "python",
   "nbconvert_exporter": "python",
   "pygments_lexer": "ipython3",
   "version": "3.8.5-final"
  },
  "orig_nbformat": 2,
  "kernelspec": {
   "name": "python3",
   "display_name": "Python 3",
   "language": "python"
  }
 },
 "nbformat": 4,
 "nbformat_minor": 2,
 "cells": [
  {
   "source": [
    "# linked list"
   ],
   "cell_type": "markdown",
   "metadata": {}
  },
  {
   "source": [
    "### 1. linked list"
   ],
   "cell_type": "markdown",
   "metadata": {}
  },
  {
   "source": [
    "1) list\n",
    "\n",
    "    순서를 가진 데이터의 묶음 - 같은 데이터의 중복 저장 가능\n",
    "\n",
    "    시퀀스 자료형 - 인덱싱, 슬라이싱, 연산자, 메서드 사용 가능\n",
    "\n",
    "    크기제한 없음, 타입제한 없음\n",
    "\n",
    "> 배열\n",
    ">> 크기 변경 불가\n",
    "\n",
    ">> 선언된 한가지 타입만 저장가능\n",
    "\n",
    "> 리스트\n",
    ">> 크기 변경 가능\n",
    "\n",
    ">> 다향한 데이터 타입 저장 가능"
   ],
   "cell_type": "markdown",
   "metadata": {}
  },
  {
   "source": [
    "순차 리스트\n",
    "> 배열을 기반으로 구현된 리스트\n",
    "\n",
    "연결 리스트\n",
    "> 메모리의 동적할당을 기반으로 구현된 리스트"
   ],
   "cell_type": "markdown",
   "metadata": {}
  },
  {
   "source": [
    "2) 리스트 복사 (30%의 성능향상)\n",
    "> 여러 가지 방법으로 리스트 복사\n",
    "\n",
    "> 수행시간의 차이가 있고, 의미가 다른 항목 존재\n",
    "\n"
   ],
   "cell_type": "markdown",
   "metadata": {}
  },
  {
   "source": [
    "|수행코드의 수행시간이 빠른 순서|코드|설명|\n",
    "|------|---|---|\n",
    "|1|new_list = old_list|주소의 복사, 얕은 복사|\n",
    "|**2 (추천되는 방법)**|new_list = old_list\\[:\\]|슬라이싱, 깊은 복사|\n",
    "|3|new_list = old_list[]<br> new_list.extend(old_list)<br>|extend():리스트를 추가하는 함수 깊은 복사|\n",
    "|4|new_list = list(old_list)|list(), 깊은 복사|\n",
    "|5|import copy<br>new_list = copy.copy(old_list)|copy활용, 깊은 복사|\n",
    "|6|new_list=\\[i for i in old_list\\]|리스트 함축, 깊은 복사|\n",
    "|7|import copy <br> new_list = copy.deepcopy(old_list)|리스트 원소까지도 깊은 복사, 가장 느림, 깊은 복사|"
   ],
   "cell_type": "markdown",
   "metadata": {}
  },
  {
   "source": [
    "3) 연결 리스트\n",
    "> 리스트의 단점을 보완한 자료 구조\n",
    "\n",
    "> 1) 자료의 논리적인 순서와 메모리 상의 물리적인 순서가 일치하지 않고, 개별적으로 위치하고 있는 원소의 주소를 연결하여 하나의 전체적인 자료구조를 이룸\n",
    "\n",
    "> 2) 링크를 통해 원소에 접근하므로, 순차 리스트에서 물리적인 순서를 맞추기 위한 작업이 필요하지 않음\n",
    "\n",
    "> 3) 자료구조의 크기를 동적으로 조정할 수 있어, 메모리의 효율적인 사용이 가능\n",
    "\n",
    "> 4) 탐색 - 순차 탐색\n",
    "\n",
    "|함수명|기능|\n",
    "|------|----|\n",
    "|addtoFirst()| 연결 리스트의 앞쪽에 원소를 추가하는 연산|\n",
    "|addtoLast()| 연결 리스트의 뒤쪽에 원소를 추가하는 연산|\n",
    "|add()| 연결 리스트의 특정 위치에 원소를 추가하는 연산|\n",
    "|delete()| 연결 리스트의 특정 위치에 있는 원소를 삭제하는 연산|\n",
    "|get()| 연결 리스트의 특정 위치에 있는 원소를 리턴하는 연산|"
   ],
   "cell_type": "markdown",
   "metadata": {}
  },
  {
   "source": [
    "** 노드 **\n",
    "\n",
    "연결 리스트에서 하나의 원소에 필요한 데이터를 갖고 있는 자료 단위\n",
    "> 데이터 필드 \n",
    ">> 원소의 값을 저장하는 자료구조\n",
    "\n",
    "> 링크 필드\n",
    ">>다음 노드의 주소를 저장하는 자료구조\n",
    "\n",
    "** 헤드 **\n",
    "\n",
    "리스트의 처음 노드를 가리키는 레퍼런스"
   ],
   "cell_type": "markdown",
   "metadata": {}
  },
  {
   "source": [
    "4) 단순 연결 리스트\n",
    "\n",
    "> 노드가 하나의 링크 필드에 의해 다음 노드와 연결되는 구조를 가짐\n",
    "\n",
    "> 헤드가 가장 앞의 노드를 가리키고, 각 노드의 링크 필드가 연속적으로 다음 노드를 가리킴\n",
    "\n",
    "> 최종적으로 None을 가리키는 노드가 리스트의 가장 마지막 노드임"
   ],
   "cell_type": "markdown",
   "metadata": {}
  },
  {
   "source": [
    "** 단순 연결 리스트의 삽입 연산 **\n",
    "\n",
    "- A, C, B를 원소로 갖고 있는 리스트의 두 번째에 B 노드를 삽입할 때\n",
    "\n",
    "1. 메모리를 할당하여 새로운 노드 new 생섬함\n",
    "\n",
    "2. 새로운 노드 new의 데이터 필드에 B 저장\n",
    "\n",
    "3. 삽입될 위치의 바로 앞에 위치한 노드의 링크 필드를 new에 복사\n",
    "\n",
    "4. new의 주소를 앞 노드의 링크 필드에 저장"
   ],
   "cell_type": "markdown",
   "metadata": {}
  },
  {
   "cell_type": "code",
   "execution_count": 3,
   "metadata": {},
   "outputs": [],
   "source": [
    "# 첫 번째 노드로 삽입하는 알고리즘\n",
    "def addtoFirst(Data): # 첫 노드에 데이터 삽입\n",
    "    global Head\n",
    "    Head = Node(data, Head) # 새로운 노드 생성"
   ]
  },
  {
   "cell_type": "code",
   "execution_count": 6,
   "metadata": {},
   "outputs": [],
   "source": [
    "# 가운데 노드로 삽입하는 알고리즘\n",
    "## 노드 pre의 다음 위치에 노드 삽입\n",
    "def add(pre, data): # pre 다음에 데이터 삽입\n",
    "    if pre == None:\n",
    "        print('error')\n",
    "    else:\n",
    "        pre.link = Node(data, pre.link)"
   ]
  },
  {
   "cell_type": "code",
   "execution_count": 7,
   "metadata": {},
   "outputs": [],
   "source": [
    "# 마지막 노드로 삽입하는 알고리즘\n",
    "def addtoLast(data): # 마지막에 데이터 삽입\n",
    "    global Head\n",
    "    if Head == None: # 빈 리스트이면\n",
    "        Head = Node(data, None)\n",
    "    else:\n",
    "        p = Head\n",
    "        while p.link != None: # 마지막 노드 찾을 때까지\n",
    "            p = p.link\n",
    "        p.link = Node(data, None)"
   ]
  },
  {
   "source": [
    "** 단순 연결 리스트의 삭제 연산 **\n",
    " - A, B, C, D 리스트의 B 노드를 삭제할 때\n",
    "\n",
    "1. 삭제할 노드의 앞 노드(선행노드) 탐색\n",
    "\n",
    "2. 삭제할 노드의 링크 필드를 선행노드의 링크 필드에 복사\n",
    "> B를 가리키는 노드가 사라져 B가 삭제된 것과 같은 기능"
   ],
   "cell_type": "markdown",
   "metadata": {}
  },
  {
   "cell_type": "code",
   "execution_count": 8,
   "metadata": {},
   "outputs": [],
   "source": [
    "# 첫번째 노드를 삭제하는 알고리즘\n",
    "def deletetoFirst(): # 처음 노드 삭제\n",
    "    global Head\n",
    "    if Head == None:\n",
    "        print('error')\n",
    "    else:\n",
    "        Head = Head.link"
   ]
  },
  {
   "source": [
    "# "
   ],
   "cell_type": "markdown",
   "metadata": {}
  },
  {
   "source": [
    "# 노드를 삭제하는 알고리즘\n",
    "## 노드 pre의 다음 위치에 있는 노드 삭제\n",
    "def delete(pre): # pre 다음 노드 삭제\n",
    "    if pre == None or pre.link == None:\n",
    "        print('error')\n",
    "    else:\n",
    "        pre.link = pre.link.link"
   ],
   "cell_type": "code",
   "metadata": {},
   "execution_count": 9,
   "outputs": []
  },
  {
   "source": [
    "5) 이중 연결 리스트\n",
    "\n",
    "> 양쪽 방향으로 순회할 수 있도록 노드를 연결한 리스트\n",
    "\n",
    "> 두 개의 링크 필드와 한 개의 데이터 필드로 구성"
   ],
   "cell_type": "markdown",
   "metadata": {}
  },
  {
   "source": [
    "cur이 가리키는 노드 다음에 D값을 가진 노드를 삽입하는 과정\n",
    "\n",
    "> 1. 메모리를 할당하여 새로운 노드 new를 생성하고 데이터 필드에 D를 저장\n",
    "\n",
    "> 2. cur의 next를 new의 next에 저장하여 cur의 다음 노드를 삽입할 노드의 다음 노드로 연결\n",
    "\n",
    "> 3. new의 값을 cur의 next에 저장하여 삽입할 노드를 cur의 다음 노드로 연결\n",
    "\n",
    "> 4. cur의 값을 new의 prev 필드에 저장하여 cur를 new의 이전 노드로 연결\n",
    "\n",
    "> 5. new의 값을 new가 가리키는 노드의 다음 노드의 prev필드에 저장하여 삽입하려는 노드의 다음 노드와 삽입하려는 노드를 연결"
   ],
   "cell_type": "markdown",
   "metadata": {}
  },
  {
   "source": [
    "** 이중 연결 리스트의 삭제 연산 **\n",
    "\n",
    "cur이 가리키는 노드를 삭제하는 과정\n",
    "\n",
    "1. 현재 상태\n",
    "\n",
    "2. 삭제할 노드의 다음 노드의 주소를 삭제할 노드의 이전 노드의 next 필드에 저장하여 링크를 연결\n",
    "\n",
    "3. 삭제할 노드의 다음 노드의 prev필드에 삭제할 노드의 이전 노드의 주소를 저장하여 링크를 연결\n",
    "\n",
    "4. cur이 가리키는 노드에 할당된 메모리를 반환\n"
   ],
   "cell_type": "markdown",
   "metadata": {}
  },
  {
   "source": [
    "### 2. 삽입 정렬"
   ],
   "cell_type": "markdown",
   "metadata": {}
  },
  {
   "source": [
    "1. 삽입정렬의 특징\n",
    "\n",
    "> 도서관 사서가 책을 정렬할 때, 일반적으로 활용되는 방식\n",
    "\n",
    "> 자료 배열의 모든 원소들을 앞에서부터 차례대로 이미 정렬된 부분과 비교하여, 자신의 위치를 찾아냄으로써 정렬을 완성\n",
    "\n",
    "> 삽입 정렬의 정렬 과정\n",
    "\n",
    ">> 정렬할 자료를 두개의 부분집합 S와 U로 가정\n",
    "\n",
    ">> - 부분집합 S : 정렬된 앞부분의 원소들\n",
    "\n",
    ">> - 부분집합 U : 아직 정렬되지 않은 나머지 원소들\n",
    "\n",
    ">> 정렬되지 않은 부분집합 U의 원소를 하나씩 꺼내서 이미 정렬되어 있는 부분집합 S의 마지막 원소부터 비교하면서 위치를 찾아 삽입 (반복)\n",
    "\n",
    ">> 삽입 정렬을 반복하면서 부분집합 S의 원소는 하나씩 늘리고 부분집합 U의 원소는 하나씩 감소하게 함\n",
    "\n",
    ">> 부분집합 U가 공집합이 되면 삽입정렬이 완성됨\n",
    "\n",
    ">> O(n^2)"
   ],
   "cell_type": "markdown",
   "metadata": {}
  },
  {
   "source": [
    "### 3. 병합 정렬"
   ],
   "cell_type": "markdown",
   "metadata": {}
  },
  {
   "source": [
    "1. 병합 정렬\n",
    "\n",
    "> 여러 개의 정렬된 자료의 집합을 병합하여 한 개의 정렬된 집합으로 만드는 방식\n",
    "\n",
    "> 1) 분할 정복 알고리즘 활용\n",
    "\n",
    ">> 자료를 최소 단위의 문제까지 나눈 후에 차례대로 정렬하여 최종 결과를 얻어냄\n",
    "\n",
    ">> Top - Down 방식\n",
    "\n",
    "> 2) 시간복잡도\n",
    "\n",
    ">> O(nlogn)"
   ],
   "cell_type": "markdown",
   "metadata": {}
  },
  {
   "cell_type": "code",
   "execution_count": 2,
   "metadata": {},
   "outputs": [],
   "source": [
    "# 분할 과정의 알고리즘\n",
    "def merge_sort(m):\n",
    "    if len(m) <= 1: # 사이즈가 0이거나 1인 경우, 바로 리턴\n",
    "        return m\n",
    "    \n",
    "    # 1. DIVIDE 부분\n",
    "    mid = len(m) // 2\n",
    "    left = m[:mid]\n",
    "    righr = m[mid:]\n",
    "\n",
    "    # 리스트의 크기가 1이 될 때까지 merge_sort 재귀 호출\n",
    "    left = merge_sort(left)\n",
    "    right = merge_sort(right)\n",
    "\n",
    "    # 2. Conquer 부분 : 분할된 리스트들 병합\n",
    "    return merge(left, right)"
   ]
  },
  {
   "cell_type": "code",
   "execution_count": 3,
   "metadata": {},
   "outputs": [],
   "source": [
    "# 병합과정\n",
    "def merge(left, right):\n",
    "    result = [] #두 개의 분할된 리스트를 병합하여 result를 만듦\n",
    "\n",
    "    while len(left) > 0 and len(right) > 0: # 양쪽 리스트에 원소가 남아있는 경우\n",
    "        # 두 서브 리스트의 첫 원소들을 비교하여 작은 것부터 result에 추가함\n",
    "        if left[0] <= right[0]:\n",
    "            result.append(left.pop(0))\n",
    "        else:\n",
    "            result.append(right.pop(0))\n",
    "\n",
    "    if len(left) > 0: # 왼쪽 리스트에 원소가 남아있는 경우\n",
    "        result.extend(left)\n",
    "    if len(right) > 0: # 오른쪽 리스트에 원소가 남아있는 경우\n",
    "        restul.extend(right)\n",
    "    return result"
   ]
  },
  {
   "source": [
    "### 4. linked list의 활용\n",
    "\n",
    "1. 스택의 원소: 리스트의 노드\n",
    "\n",
    "> 스택 내의 순서는 리스트의 링크를 통해 연결됨\n",
    "\n",
    "> push: 리스트의 마지막에 노드 삽입\n",
    "\n",
    "> pop: 리스트의 마지막 노드 반환 / 삭제\n",
    "\n",
    "2. 변수 TOP\n",
    "\n",
    "> 리스트의 마지막 노드를 가리키는 변수\n",
    "\n",
    "> 초기 상태: Top = None\n",
    "\n",
    "2. 리스트를 이용해 push와 pop연산 구현\n",
    "\n",
    "> 1) None 값을 가지는 노드를 만들어 스택 초기화\n",
    "\n",
    "> 2) 원소 A 삽입: Push(A)\n",
    "\n",
    "> 3) 원소 B 삽입: Push(B)\n",
    "\n",
    "> 4) 원소 C 삽입: Push(C)\n",
    "\n",
    "> 5) 원소 반환 : pop"
   ],
   "cell_type": "markdown",
   "metadata": {}
  },
  {
   "source": [
    "# Push / Pop 연산의 알고리즘\n",
    "def push(i): # 원소 i를 스택 top(맨앞) 위치에 push\n",
    "    global top\n",
    "    top = Node(i, top) # 새로운 노드 생성\n",
    "\n",
    "def pop(): # 스택의 top을 pop\n",
    "    global top\n",
    "\n",
    "    if top == None: # 빈 리스트이면\n",
    "        pritn(\"error\")\n",
    "    else:\n",
    "        data = top.data\n",
    "        top = top.link # top이 가리키는 노드를 바꿈\n",
    "        return data"
   ],
   "cell_type": "code",
   "metadata": {},
   "execution_count": 5,
   "outputs": []
  },
  {
   "source": [
    "3. 우선순위 큐의 수현과 기본 연산\n",
    "\n",
    "> 우선순위 큐의 구현 \\> 연결 리스트를 이용한 우선순위 큐\n",
    "\n",
    "> 우선순위 큐의 기본 연산 \\> 삽입:enQueue, 삭제: deQueue\n",
    "\n",
    "> 1) 순차 리스트를 이용한 우선순위 큐 구현\n",
    "\n",
    ">> 순차 리스트를 이용하여 자료 저장\n",
    "\n",
    ">> 원소를 삽입하는 과정에서 우선순위를 비교하여 적절한 위치에 삽입하는 구조\n",
    "\n",
    ">> 가장 앞에 최고 우선순위의 원소가 위치하게 됨\n",
    "\n",
    ">>> 문제점\n",
    "\n",
    ">>> \\> 배열을 사용하므로, 삽입이나 삭제 연산이 일어날 때 원소의 재배치가 발생함, 이에 소요되는 시간이나 메모리 낭비가 큼\n",
    "\n",
    "> 2) 리스트를 이용한 우선순위 Queue 구현\n",
    "\n",
    ">> 연결 리스트를 이용하여 자료 저장\n",
    "\n",
    ">> 원소를 삽입하는 과정에서 리스트 내 노드의 원소들과 비교하여 적절한 위치에 노드를 삽입하는 구조\n",
    "\n",
    ">> 리스트의 가장 앞쪽에 최고 우선순위가 위치하게 됨\n",
    "\n",
    ">>> 배열 대비 장점\n",
    "\n",
    ">>> \\> 삽입 / 삭제 연산 이후 원소의 재배치가 필요 없음\n",
    "\n",
    ">>> \\> 메모리의 효율적인 사용이 가능함"
   ],
   "cell_type": "markdown",
   "metadata": {}
  },
  {
   "cell_type": "code",
   "execution_count": null,
   "metadata": {},
   "outputs": [],
   "source": []
  }
 ]
}