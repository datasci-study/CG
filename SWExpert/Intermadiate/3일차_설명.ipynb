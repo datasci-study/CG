{
 "metadata": {
  "language_info": {
   "codemirror_mode": {
    "name": "ipython",
    "version": 3
   },
   "file_extension": ".py",
   "mimetype": "text/x-python",
   "name": "python",
   "nbconvert_exporter": "python",
   "pygments_lexer": "ipython3",
   "version": "3.8.5-final"
  },
  "orig_nbformat": 2,
  "kernelspec": {
   "name": "python_defaultSpec_1599399647928",
   "display_name": "Python 3"
  }
 },
 "nbformat": 4,
 "nbformat_minor": 2,
 "cells": [
  {
   "cell_type": "markdown",
   "metadata": {},
   "source": [
    "## String"
   ]
  },
  {
   "cell_type": "markdown",
   "metadata": {},
   "source": [
    "### 1. 문자표현\n"
   ]
  },
  {
   "cell_type": "markdown",
   "metadata": {},
   "source": []
  },
  {
   "cell_type": "markdown",
   "metadata": {},
   "source": [
    "### 2. 패턴매칭"
   ]
  },
  {
   "cell_type": "markdown",
   "metadata": {},
   "source": [
    "** 1) 문자열 교체하기 **"
   ]
  },
  {
   "cell_type": "markdown",
   "metadata": {},
   "source": [
    "2) 패턴 매칭 알고리즘\n",
    "\n",
    "        (1) 고지식한 패턴 검색 알고리즘 (Brute Force)\n",
    "\n",
    "        (2) KMP 알고리즘\n",
    "\n",
    "        (3) 보이어-무어 알고리즘"
   ]
  },
  {
   "cell_type": "markdown",
   "metadata": {},
   "source": [
    "(1) 고지식한 패턴 검색 알고리즘 (Brute Force)\n",
    "\n",
    "        본문 문자열을 처음부터 끝까지 차례대호 순회하면서 패턴 내의 문자들을 일일이 비교하는 방식으로 동작"
   ]
  },
  {
   "cell_type": "code",
   "execution_count": null,
   "metadata": {},
   "outputs": [],
   "source": [
    "p = \"is\" # 찾을 패턴\n",
    "t = \"This is a book~!\" # 전체 텍스트\n",
    "M = len(p) # 찾을 패턴의 길이\n",
    "N = len(t) # 전체 텍스트의 길이\n",
    "\n",
    "def BruteForce(p,t):\n",
    "    i = 0 # t의 인덱스\n",
    "    j = 0 # p의 인덱스\n",
    "    while j < M and i < N:\n",
    "        if t[i] != p[j]:\n",
    "            i = i - j\n",
    "            j = -1\n",
    "        i = i + 1\n",
    "        j = j + 1\n",
    "    if j == M: return i-M # 검색 성공\n",
    "    else: return -1 # 검색실패"
   ]
  },
  {
   "cell_type": "code",
   "execution_count": null,
   "metadata": {},
   "outputs": [],
   "source": [
    "# 최악의 경우 시간 복잡도는 텍스트의 모든 위치에서 패턴을 비교해야 하므로 O(MN)이 됨\n",
    "# 길이가 10000인 String에서 길이 80의 패턴을 찾는다고 할 때, 최악의 경우 약 10,000 * 80 = 800,000번의 비교가 일어남\n",
    "# 비교횟수를 줄일 수 있다"
   ]
  },
  {
   "cell_type": "markdown",
   "metadata": {},
   "source": [
    "(2) KMP 알고리즘\n",
    "\n",
    "        불일치가 발생한 텍스트 문자열의 앞 부분에 어떤 문자가 있는지를 미리 알고 있으므로, 불일치가 발생한 앞 부분에 대하여 다시 비교하지 않고 매칭을 수행"
   ]
  },
  {
   "cell_type": "code",
   "execution_count": null,
   "metadata": {},
   "outputs": [],
   "source": [
    "# 1) 패턴을 전처리하여 배열 next[M]을 구해서 잘못된 시작을 최소화함\n",
    "# next[M] : 불일치가 발생했을 경우 이동할 다음 위치\n",
    "\n",
    "# 2) 시간 복잡도\n",
    "# O(M+N)\n"
   ]
  },
  {
   "cell_type": "markdown",
   "metadata": {},
   "source": [
    "(3) 보이어-무어 알고리즘\n",
    "        \n",
    "        오른쪽에서 왼쪽으로 비교, 대부분의 상용 소프트 웨어에서 채택하고 있는 알고리즘\n",
    "        \n",
    "        대부분의 상용 소프트웨어에서 채택하고 있는 알고리즘\n",
    "\n",
    "        패턴에 오른쪽 끝에 있는 문자가 불일치하고, 이 문자가 패턴 내에 존재하지 않는 경우, 이동거리는 패턴의 길이 만큼이 됨\n",
    "\n",
    "        오른쪽 끝에 있는 문자가 불일치하고 이 문자가 패턴 내에 존재할 경우 패턴에서 일치하는 문자를 찾아서 세 칸을 점프"
   ]
  },
  {
   "cell_type": "code",
   "execution_count": null,
   "metadata": {},
   "outputs": [],
   "source": [
    "# r i t h m을 찾을때\n",
    "# a pa(r)ttern matching algorithm\n",
    "# rith(m)\n",
    "\n",
    "# 오른쪽 맨 끝 글자와 불일치하고 패턴내 해당 글자 존재시\n",
    "# m h t i r ow\n",
    "# 0 1 2 3 4 5\n",
    "# 만큼 이동\n"
   ]
  },
  {
   "cell_type": "code",
   "execution_count": null,
   "metadata": {},
   "outputs": [],
   "source": []
  }
 ]
}